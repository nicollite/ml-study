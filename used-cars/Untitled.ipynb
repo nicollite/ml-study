{
 "cells": [
  {
   "cell_type": "code",
   "execution_count": 1,
   "metadata": {},
   "outputs": [],
   "source": [
    "import pandas as pd"
   ]
  },
  {
   "cell_type": "code",
   "execution_count": 21,
   "metadata": {},
   "outputs": [],
   "source": [
    "base = pd.read_csv(\"autos.csv\",encoding = \"ISO-8859-1\")"
   ]
  },
  {
   "cell_type": "code",
   "execution_count": 43,
   "metadata": {},
   "outputs": [],
   "source": [
    "def remove_columns(dataframe,remove_columns):\n",
    "    for column in remove_columns:\n",
    "        try:\n",
    "            dataframe = dataframe.drop(column, axis = 1)\n",
    "        except:\n",
    "            print(\"column {} don't exists\".format(column))\n",
    "    return dataframe"
   ]
  },
  {
   "cell_type": "code",
   "execution_count": 39,
   "metadata": {},
   "outputs": [],
   "source": [
    "columns_to_remove = [\"dateCrawled\",\"dateCreated\", \"nrOfPictures\", \"postalCode\", \"lastSeen\"]\n",
    "base = remove_columns(base, columns_to_remove)"
   ]
  },
  {
   "cell_type": "code",
   "execution_count": 44,
   "metadata": {},
   "outputs": [
    {
     "name": "stdout",
     "output_type": "stream",
     "text": [
      "column name don't exists\n",
      "column seller don't exists\n",
      "column offerType don't exists\n"
     ]
    }
   ],
   "source": [
    "more_columns_to_remove = [\"name\", \"seller\", \"offerType\"]\n",
    "base = remove_columns(base, more_columns_to_remove)"
   ]
  },
  {
   "cell_type": "code",
   "execution_count": null,
   "metadata": {},
   "outputs": [],
   "source": []
  },
  {
   "cell_type": "code",
   "execution_count": null,
   "metadata": {},
   "outputs": [],
   "source": []
  }
 ],
 "metadata": {
  "kernelspec": {
   "display_name": "Python 3",
   "language": "python",
   "name": "python3"
  },
  "language_info": {
   "codemirror_mode": {
    "name": "ipython",
    "version": 3
   },
   "file_extension": ".py",
   "mimetype": "text/x-python",
   "name": "python",
   "nbconvert_exporter": "python",
   "pygments_lexer": "ipython3",
   "version": "3.7.6"
  }
 },
 "nbformat": 4,
 "nbformat_minor": 4
}
