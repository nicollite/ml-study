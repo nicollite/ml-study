{
 "cells": [
  {
   "cell_type": "code",
   "execution_count": 1,
   "metadata": {},
   "outputs": [],
   "source": [
    "import pandas as pd"
   ]
  },
  {
   "cell_type": "code",
   "execution_count": 59,
   "metadata": {},
   "outputs": [],
   "source": [
    "base = pd.read_csv(\"autos.csv\",encoding = \"ISO-8859-1\")"
   ]
  },
  {
   "cell_type": "code",
   "execution_count": 60,
   "metadata": {},
   "outputs": [],
   "source": [
    "def remove_columns(dataframe,remove_columns):\n",
    "    for column in remove_columns:\n",
    "        try:\n",
    "            dataframe = dataframe.drop(column, axis = 1)\n",
    "        except:\n",
    "            print(\"column {} don't exists\".format(column))\n",
    "    return dataframe"
   ]
  },
  {
   "cell_type": "code",
   "execution_count": 61,
   "metadata": {},
   "outputs": [],
   "source": [
    "columns_to_remove = [\"dateCrawled\",\"dateCreated\", \"nrOfPictures\", \"postalCode\", \"lastSeen\"]\n",
    "base = remove_columns(base, columns_to_remove)"
   ]
  },
  {
   "cell_type": "code",
   "execution_count": 62,
   "metadata": {},
   "outputs": [],
   "source": [
    "more_columns_to_remove = [\"name\", \"seller\", \"offerType\"]\n",
    "base = remove_columns(base, more_columns_to_remove)"
   ]
  },
  {
   "cell_type": "code",
   "execution_count": 63,
   "metadata": {},
   "outputs": [],
   "source": [
    "base = base.loc[base.price > 10]\n",
    "base = base.loc[base.price < 350000]"
   ]
  },
  {
   "cell_type": "code",
   "execution_count": 64,
   "metadata": {},
   "outputs": [],
   "source": [
    "def get_most_repeated(dataframe,column):\n",
    "    if column not in dataframe:\n",
    "        print(\"column {} don't exist in dataframe\".format())\n",
    "        return\n",
    "    most_repeated_value = dataframe[column].value_counts().index[0]\n",
    "    print(\"most repeated value in column \\\"{}\\\": {}\".format(column,most_repeated_value))\n",
    "    return most_repeated_value\n",
    "\n",
    "def get_fillna_dict(dataframe,columns):\n",
    "    dic = {}\n",
    "    for c in columns:\n",
    "        dic[c] = get_most_repeated(dataframe,c)\n",
    "    return dic"
   ]
  },
  {
   "cell_type": "code",
   "execution_count": 66,
   "metadata": {},
   "outputs": [
    {
     "name": "stdout",
     "output_type": "stream",
     "text": [
      "most repeated value in column \"vehicleType\": limousine\n",
      "most repeated value in column \"gearbox\": manuell\n",
      "most repeated value in column \"model\": golf\n",
      "most repeated value in column \"fuelType\": benzin\n",
      "most repeated value in column \"notRepairedDamage\": nein\n"
     ]
    }
   ],
   "source": [
    "fill_nan_values = get_fillna_dict(base,[\"vehicleType\", \"gearbox\", \"model\", \"fuelType\", \"notRepairedDamage\"])\n",
    "base = base.fillna(value = fill_nan_values)"
   ]
  },
  {
   "cell_type": "code",
   "execution_count": 33,
   "metadata": {},
   "outputs": [
    {
     "data": {
      "text/plain": [
       "Index(['price', 'abtest', 'vehicleType', 'yearOfRegistration', 'gearbox',\n",
       "       'powerPS', 'model', 'kilometer', 'monthOfRegistration', 'fuelType',\n",
       "       'brand', 'notRepairedDamage'],\n",
       "      dtype='object')"
      ]
     },
     "execution_count": 33,
     "metadata": {},
     "output_type": "execute_result"
    }
   ],
   "source": [
    "base.columns"
   ]
  }
 ],
 "metadata": {
  "kernelspec": {
   "display_name": "Python 3",
   "language": "python",
   "name": "python3"
  },
  "language_info": {
   "codemirror_mode": {
    "name": "ipython",
    "version": 3
   },
   "file_extension": ".py",
   "mimetype": "text/x-python",
   "name": "python",
   "nbconvert_exporter": "python",
   "pygments_lexer": "ipython3",
   "version": "3.7.6"
  }
 },
 "nbformat": 4,
 "nbformat_minor": 4
}
